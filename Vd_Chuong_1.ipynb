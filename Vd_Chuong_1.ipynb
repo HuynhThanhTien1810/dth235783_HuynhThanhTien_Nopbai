{
 "cells": [
  {
   "cell_type": "code",
   "id": "initial_id",
   "metadata": {
    "collapsed": true,
    "ExecuteTime": {
     "end_time": "2025-08-31T16:21:00.970100Z",
     "start_time": "2025-08-31T16:21:00.967273Z"
    }
   },
   "source": "",
   "outputs": [],
   "execution_count": null
  },
  {
   "metadata": {
    "ExecuteTime": {
     "end_time": "2025-08-31T16:21:02.241684Z",
     "start_time": "2025-08-31T16:21:02.236959Z"
    }
   },
   "cell_type": "code",
   "source": "print(\"Albert Einstein đã từng nói: Một người không mắc sai lầm không bao giờ thử bất kỳ điều gì mới.\")",
   "id": "1c338e229748140c",
   "outputs": [
    {
     "name": "stdout",
     "output_type": "stream",
     "text": [
      "Albert Einstein đã từng nói: Một người không mắc sai lầm không bao giờ thử bất kỳ điều gì mới.\n"
     ]
    }
   ],
   "execution_count": 10
  },
  {
   "metadata": {
    "ExecuteTime": {
     "end_time": "2025-08-31T16:20:01.087920Z",
     "start_time": "2025-08-31T16:20:01.079982Z"
    }
   },
   "cell_type": "code",
   "source": [
    "def add(a,b):\n",
    "    result = a+b\n",
    "    return result\n",
    "print(add(4,5))"
   ],
   "id": "1e062fd6aed10b4c",
   "outputs": [
    {
     "name": "stdout",
     "output_type": "stream",
     "text": [
      "9\n"
     ]
    }
   ],
   "execution_count": 6
  },
  {
   "metadata": {
    "ExecuteTime": {
     "end_time": "2025-08-31T16:20:30.096267Z",
     "start_time": "2025-08-31T16:20:30.091577Z"
    }
   },
   "cell_type": "code",
   "source": [
    "if 5>2:\n",
    "    print(\"Five is greater than two!\")"
   ],
   "id": "618e48da02c1d029",
   "outputs": [
    {
     "name": "stdout",
     "output_type": "stream",
     "text": [
      "Five is greater than two!\n"
     ]
    }
   ],
   "execution_count": 7
  },
  {
   "metadata": {
    "ExecuteTime": {
     "end_time": "2025-08-31T16:20:40.924767Z",
     "start_time": "2025-08-31T16:20:40.920541Z"
    }
   },
   "cell_type": "code",
   "source": [
    "if True:\n",
    "    print(\"true\")\n",
    "else:\n",
    "    print(\"False\")\n"
   ],
   "id": "ba146dfe462dcefb",
   "outputs": [
    {
     "name": "stdout",
     "output_type": "stream",
     "text": [
      "true\n"
     ]
    }
   ],
   "execution_count": 8
  },
  {
   "metadata": {
    "ExecuteTime": {
     "end_time": "2025-08-31T16:20:52.368204Z",
     "start_time": "2025-08-31T16:20:52.363959Z"
    }
   },
   "cell_type": "code",
   "source": [
    "#This is a comment\n",
    "print(\"hello, World!\")"
   ],
   "id": "497aab1867e66513",
   "outputs": [
    {
     "name": "stdout",
     "output_type": "stream",
     "text": [
      "hello, World!\n"
     ]
    }
   ],
   "execution_count": 9
  },
  {
   "metadata": {
    "ExecuteTime": {
     "end_time": "2025-08-31T16:21:14.477845Z",
     "start_time": "2025-08-31T16:21:14.472926Z"
    }
   },
   "cell_type": "code",
   "source": [
    "total = 1+\\\n",
    "    2+\\\n",
    "    3\n",
    "print(total); print(\"hello Python!\")"
   ],
   "id": "bf9025e0aa18a8af",
   "outputs": [
    {
     "name": "stdout",
     "output_type": "stream",
     "text": [
      "6\n",
      "hello Python!\n"
     ]
    }
   ],
   "execution_count": 11
  },
  {
   "metadata": {},
   "cell_type": "code",
   "outputs": [],
   "execution_count": null,
   "source": "",
   "id": "a3d2973649920582"
  }
 ],
 "metadata": {
  "kernelspec": {
   "display_name": "Python 3",
   "language": "python",
   "name": "python3"
  },
  "language_info": {
   "codemirror_mode": {
    "name": "ipython",
    "version": 2
   },
   "file_extension": ".py",
   "mimetype": "text/x-python",
   "name": "python",
   "nbconvert_exporter": "python",
   "pygments_lexer": "ipython2",
   "version": "2.7.6"
  }
 },
 "nbformat": 4,
 "nbformat_minor": 5
}
